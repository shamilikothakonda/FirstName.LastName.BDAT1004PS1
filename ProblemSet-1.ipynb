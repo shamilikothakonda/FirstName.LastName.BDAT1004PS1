{
 "cells": [
  {
   "cell_type": "markdown",
   "id": "f9b09d11-ba36-459a-8733-e6fff5821c63",
   "metadata": {},
   "source": [
    "<h3><center>BDAT 1004 DATA PROGRAMMING - PROBLEM SET 1</center></h3>"
   ]
  },
  {
   "cell_type": "markdown",
   "id": "054c8967-4aaf-4660-bef4-4a6f1776c372",
   "metadata": {},
   "source": [
    "<h4><font color='red'>Question 1</font></h4>\n",
    "<p><font color='red'>What data type is each of the following?</font> </p>"
   ]
  },
  {
   "cell_type": "code",
   "execution_count": null,
   "id": "9ce438a2-2d25-4b1e-9906-d5482b6c6056",
   "metadata": {},
   "outputs": [],
   "source": [
    "Data Type of each of the following:\n",
    "5   - Int32\n",
    "5.0 - Double\n",
    "5 > 1 - Boolean\n",
    "'5' - Char\n",
    "5 * 2 - Int32\n",
    "'5' * 2 - Int32\n",
    "'5' + '2' - Int32\n",
    "5 / 2 - Int32\n",
    "5 % 2 - Int32\n",
    "{5, 2, 1} - Int32\n",
    "5 == 3 - Boolean\n",
    "Pi (3.1459) - Double"
   ]
  },
  {
   "cell_type": "markdown",
   "id": "ab98312c-3b31-4984-a4cf-f5f25cb30366",
   "metadata": {},
   "source": [
    "<h4><font color= 'red'>Question 2:</font></h4>\n",
    "<p><font color= 'red'>Write (and evaluate) C# expressions that answer these questions</font></p>\r\n",
    "<p><font color= 'red'>a. How many letters are there in 'Supercalifragilisticexpialidocio'</font></p>"
   ]
  },
  {
   "cell_type": "code",
   "execution_count": 32,
   "id": "81e4fb77-44f7-430c-8f81-1f2016b1396e",
   "metadata": {},
   "outputs": [
    {
     "name": "stdout",
     "output_type": "stream",
     "text": [
      "34\n"
     ]
    }
   ],
   "source": [
    "String word =\"Supercalifragilisticexpialidocious\";\n",
    "Console.WriteLine(word.Length);"
   ]
  },
  {
   "cell_type": "markdown",
   "id": "7f619dd4-eaae-460d-a594-74a6d6c34fb8",
   "metadata": {},
   "source": [
    "<p><font color= 'red'>b. Does 'Supercalifragilisticexpialidocious' contain 'ice' as a substring?</font></p>"
   ]
  },
  {
   "cell_type": "code",
   "execution_count": 34,
   "id": "7c27cf68-760b-4c6a-89d4-9dd806cd797c",
   "metadata": {},
   "outputs": [
    {
     "name": "stdout",
     "output_type": "stream",
     "text": [
      "True\n"
     ]
    }
   ],
   "source": [
    "String word =\"Supercalifragilisticexpialidocious\";\n",
    "String s1 = \"ice\";\n",
    "\n",
    "if (word.Contains(s1))\n",
    "{\n",
    "    Console.WriteLine(\"True\");\n",
    "}\n",
    "else{\n",
    "    Console.WriteLine(\"False\");\n",
    "}\n"
   ]
  },
  {
   "cell_type": "markdown",
   "id": "f15b7594-ef7b-4cb2-a532-a65d7a2a4755",
   "metadata": {},
   "source": [
    "<p><font color= 'red'>c. Which of the following words is the longest: Supercalifragilisticexpialidocious, Honorificabilitudinitatibus, or Bababadalgharaghtakamminarronnkonn?</font></p>"
   ]
  },
  {
   "cell_type": "code",
   "execution_count": 1,
   "id": "5fcbb173-47c7-418e-a851-ba60a1687262",
   "metadata": {},
   "outputs": [
    {
     "data": {
      "text/html": [
       "\r\n",
       "<div>\r\n",
       "    <div id='dotnet-interactive-this-cell-4944.Microsoft.DotNet.Interactive.Http.HttpPort' style='display: none'>\r\n",
       "        The below script needs to be able to find the current output cell; this is an easy method to get it.\r\n",
       "    </div>\r\n",
       "    <script type='text/javascript'>\r\n",
       "async function probeAddresses(probingAddresses) {\r\n",
       "    function timeout(ms, promise) {\r\n",
       "        return new Promise(function (resolve, reject) {\r\n",
       "            setTimeout(function () {\r\n",
       "                reject(new Error('timeout'))\r\n",
       "            }, ms)\r\n",
       "            promise.then(resolve, reject)\r\n",
       "        })\r\n",
       "    }\r\n",
       "\r\n",
       "    if (Array.isArray(probingAddresses)) {\r\n",
       "        for (let i = 0; i < probingAddresses.length; i++) {\r\n",
       "\r\n",
       "            let rootUrl = probingAddresses[i];\r\n",
       "\r\n",
       "            if (!rootUrl.endsWith('/')) {\r\n",
       "                rootUrl = `${rootUrl}/`;\r\n",
       "            }\r\n",
       "\r\n",
       "            try {\r\n",
       "                let response = await timeout(1000, fetch(`${rootUrl}discovery`, {\r\n",
       "                    method: 'POST',\r\n",
       "                    cache: 'no-cache',\r\n",
       "                    mode: 'cors',\r\n",
       "                    timeout: 1000,\r\n",
       "                    headers: {\r\n",
       "                        'Content-Type': 'text/plain'\r\n",
       "                    },\r\n",
       "                    body: probingAddresses[i]\r\n",
       "                }));\r\n",
       "\r\n",
       "                if (response.status == 200) {\r\n",
       "                    return rootUrl;\r\n",
       "                }\r\n",
       "            }\r\n",
       "            catch (e) { }\r\n",
       "        }\r\n",
       "    }\r\n",
       "}\r\n",
       "\r\n",
       "function loadDotnetInteractiveApi() {\r\n",
       "    probeAddresses([\"http://192.168.137.1:2048/\", \"http://192.168.0.80:2048/\", \"http://127.0.0.1:2048/\"])\r\n",
       "        .then((root) => {\r\n",
       "        // use probing to find host url and api resources\r\n",
       "        // load interactive helpers and language services\r\n",
       "        let dotnetInteractiveRequire = require.config({\r\n",
       "        context: '4944.Microsoft.DotNet.Interactive.Http.HttpPort',\r\n",
       "                paths:\r\n",
       "            {\r\n",
       "                'dotnet-interactive': `${root}resources`\r\n",
       "                }\r\n",
       "        }) || require;\r\n",
       "\r\n",
       "            window.dotnetInteractiveRequire = dotnetInteractiveRequire;\r\n",
       "\r\n",
       "            window.configureRequireFromExtension = function(extensionName, extensionCacheBuster) {\r\n",
       "                let paths = {};\r\n",
       "                paths[extensionName] = `${root}extensions/${extensionName}/resources/`;\r\n",
       "                \r\n",
       "                let internalRequire = require.config({\r\n",
       "                    context: extensionCacheBuster,\r\n",
       "                    paths: paths,\r\n",
       "                    urlArgs: `cacheBuster=${extensionCacheBuster}`\r\n",
       "                    }) || require;\r\n",
       "\r\n",
       "                return internalRequire\r\n",
       "            };\r\n",
       "        \r\n",
       "            dotnetInteractiveRequire([\r\n",
       "                    'dotnet-interactive/dotnet-interactive'\r\n",
       "                ],\r\n",
       "                function (dotnet) {\r\n",
       "                    dotnet.init(window);\r\n",
       "                },\r\n",
       "                function (error) {\r\n",
       "                    console.log(error);\r\n",
       "                }\r\n",
       "            );\r\n",
       "        })\r\n",
       "        .catch(error => {console.log(error);});\r\n",
       "    }\r\n",
       "\r\n",
       "// ensure `require` is available globally\r\n",
       "if ((typeof(require) !==  typeof(Function)) || (typeof(require.config) !== typeof(Function))) {\r\n",
       "    let require_script = document.createElement('script');\r\n",
       "    require_script.setAttribute('src', 'https://cdnjs.cloudflare.com/ajax/libs/require.js/2.3.6/require.min.js');\r\n",
       "    require_script.setAttribute('type', 'text/javascript');\r\n",
       "    \r\n",
       "    \r\n",
       "    require_script.onload = function() {\r\n",
       "        loadDotnetInteractiveApi();\r\n",
       "    };\r\n",
       "\r\n",
       "    document.getElementsByTagName('head')[0].appendChild(require_script);\r\n",
       "}\r\n",
       "else {\r\n",
       "    loadDotnetInteractiveApi();\r\n",
       "}\r\n",
       "\r\n",
       "    </script>\r\n",
       "</div>"
      ]
     },
     "metadata": {},
     "output_type": "display_data"
    },
    {
     "name": "stdout",
     "output_type": "stream",
     "text": [
      "Supercalifragilisticexpialidocious and Bababadalgharaghtakamminarronnkonn are both longest words\n"
     ]
    }
   ],
   "source": [
    "String s1 = \"Supercalifragilisticexpialidocious\";\n",
    "String s2 = \"Honorificabilitudinitatibus\";\n",
    "String s3 = \"Bababadalgharaghtakamminarronnkonn\";\n",
    "\n",
    "int l1 = s1.Length;\n",
    "int l2 = s2.Length;\n",
    "int l3 = s3.Length;\n",
    "\n",
    "if (l1>l2 && l1>l3)\n",
    "{\n",
    "    Console.WriteLine(s1+\" is the longest word\");\n",
    "}\n",
    "else if (l2>l1 && l2> l3)\n",
    "{\n",
    "    Console.WriteLine(s2+\" is the longest word\");\n",
    "}\n",
    "else if (l1==l2 && l1>l3){\n",
    "    Console.WriteLine(s1+\" and \" +s2+\" are both longest words\");\n",
    "}\n",
    "else if (l1==l3 && l1>l2 ){\n",
    "    Console.WriteLine(s1+\" and \" +s3+\" are both longest words\");\n",
    "}\n",
    "else if (l2==l3 && l2>l1 ){\n",
    "    Console.WriteLine(s2+\" and \" +s3+\" are both longest words\");\n",
    "}\n",
    "else if (l1==l2 && l1==l3){\n",
    "    Console.WriteLine(\"All the words are equal in length\");\n",
    "}\n",
    "else\n",
    "{\n",
    "    Console.WriteLine(s3+\" is the longest word\");\n",
    "}"
   ]
  },
  {
   "cell_type": "markdown",
   "id": "0da637b3-1462-4d8a-a577-cc10f4792f73",
   "metadata": {},
   "source": [
    "<p><font color= 'red'>d. Which composer comes first in the dictionary: 'Berlioz', 'Borodin', 'Brian','Bartok', 'Bellini', 'Buxtehude', 'Bernstein'. Which one comes last?</font></p>"
   ]
  },
  {
   "cell_type": "code",
   "execution_count": 3,
   "id": "65c5d160-b1c2-4239-9aa6-399bf4ad5e0e",
   "metadata": {},
   "outputs": [
    {
     "name": "stdout",
     "output_type": "stream",
     "text": [
      "Berlioz comes first in the dictionary\n",
      "Bernstein comes last in the dictionary\n"
     ]
    }
   ],
   "source": [
    "var dict =  new[]{\"Berlioz\", \"Borodin\", \"Brian\",\"Bartok\", \"Bellini\", \"Buxtehude\", \"Bernstein\"};\n",
    "int l1 = dict.Length;\n",
    "Console.WriteLine(dict[0] +\" comes first in the dictionary\");\n",
    "Console.WriteLine(dict[l1-1] + \" comes last in the dictionary\");"
   ]
  },
  {
   "cell_type": "markdown",
   "id": "42a891ce-c500-4dc8-a557-85745997fd37",
   "metadata": {},
   "source": [
    "<h4><font color= 'red'> Question 3:</font></h4>\n",
    "<p><font color='red'>Implement function triangleArea(a,b,c) that takes as input the lengths of the 3 sides of a triangle and returns the area of the triangle. By Heron's formula, the area of a triangle with side lengths a, b, and c is s(s − a)(s −b)(s −c), where s = (a + b + c)/2.</font></p>"
   ]
  },
  {
   "cell_type": "code",
   "execution_count": 39,
   "id": "91056313-a572-4e65-8b79-5e4a3e0c6bd2",
   "metadata": {},
   "outputs": [
    {
     "name": "stdout",
     "output_type": "stream",
     "text": [
      "1.7320508075688772\n"
     ]
    }
   ],
   "source": [
    "public static void triangleArea(int a, int b, int c) \n",
    "{\n",
    "  double s = (a+b+c)/2;\n",
    "  double area = Math.Sqrt(s*(s-a)*(s-b)*(s-c));\n",
    "  Console.WriteLine(area);\n",
    "}\n",
    "triangleArea(2,2,2);"
   ]
  },
  {
   "cell_type": "markdown",
   "id": "34c3b71e-3e44-44c0-bfe2-4a925e742750",
   "metadata": {},
   "source": [
    "<h4><font color= 'red'>Question 4:</font></h4>\n",
    "<p><font color='red'>Write a program in C# Sharp to separate odd and even integers in separate arrays.</font></p>"
   ]
  },
  {
   "cell_type": "code",
   "execution_count": null,
   "id": "12250141-35c8-4965-a999-13234aa02909",
   "metadata": {},
   "outputs": [],
   "source": [
    "Console.WriteLine(\"Input the number of elements to be stored in the array:\");\n",
    "int n = Convert.ToInt32(Console.ReadLine());\n",
    "int[] arr = new int[n];\n",
    "int[] evn = new int[n];\n",
    "int[] odd = new int[n];\n",
    "int i, j=0, k=0;\n",
    "Console.WriteLine(\"Input {0} elements in the array:\",n);\n",
    "for (i=0; i<n; i++){\n",
    "    Console.Write(\"element - {0} :\", i);\n",
    "    arr[i] = Convert.ToInt16(Console.ReadLine());\n",
    "}\n",
    "// Check for even elements and store it in evn array\n",
    "for(i=0;i<n;i++){\n",
    "    if (arr[i] % 2 == 0){\n",
    "        evn[j] = arr[i];\n",
    "        j++;\n",
    "    }\n",
    "// Check for odd elements and store it in odd array\n",
    "    else{\n",
    "        odd[k] = arr[i];\n",
    "        k++;\n",
    "    }\n",
    "}\n",
    "Console.Write(\"Expected Output:\");\n",
    "Console.Write(\"\\nThe Even elements are: \");\n",
    "for(i=0;i<j;i++){\n",
    "    Console.Write(\"{0} \",evn[i]);\n",
    "}\n",
    "\n",
    "Console.Write(\"\\nThe Odd elements are: \");\n",
    "for(i=0;i<k;i++){\n",
    "    Console.Write(\"{0} \",odd[i]);\n",
    "}"
   ]
  },
  {
   "cell_type": "raw",
   "id": "47fe3e52-ca32-433a-9174-879a43f3ec2f",
   "metadata": {},
   "source": [
    "#Output of the above program. Unable to execute in the interactive terminal here due to issues with taking user input\n",
    "Input the number of elements to be stored in the array :5 \r\n",
    "Input 5 elements in the array :\r\n",
    "element - 0 : 25\r\n",
    "element - 1 : 47\r\n",
    "element - 2 : 42\r\n",
    "element - 3 : 56\r\n",
    "element - 4 : 32 \r\n",
    "Expected Output:\r\n",
    "The Even elements are: \r\n",
    "42 56 32\r\n",
    "The Odd elements are :\r\n",
    "25 47"
   ]
  },
  {
   "cell_type": "markdown",
   "id": "99059dc4-46d2-4933-bba0-000ae3772286",
   "metadata": {},
   "source": [
    "<h4><font color= 'red'> Question 5<font></h4>\r\n",
    "<p><font color= 'red'>a. Write a function inside(x,y,x1,y1,x2,y2) that returns True or False depending on whether the point(x,y)lies in the rectangle with lower left corner (x1,y1) and upper right corner (x2,y2).<font></p>"
   ]
  },
  {
   "cell_type": "code",
   "execution_count": 23,
   "id": "9102336a-de2b-4c9f-b9a3-9173034775bd",
   "metadata": {},
   "outputs": [
    {
     "data": {
      "text/html": [
       "<div class=\"dni-plaintext\"><pre>True</pre></div><style>\r\n",
       ".dni-code-hint {\r\n",
       "    font-style: italic;\r\n",
       "    overflow: hidden;\r\n",
       "    white-space: nowrap;\r\n",
       "}\r\n",
       ".dni-treeview {\r\n",
       "    white-space: nowrap;\r\n",
       "}\r\n",
       ".dni-treeview td {\r\n",
       "    vertical-align: top;\r\n",
       "    text-align: start;\r\n",
       "}\r\n",
       "details.dni-treeview {\r\n",
       "    padding-left: 1em;\r\n",
       "}\r\n",
       "table td {\r\n",
       "    text-align: start;\r\n",
       "}\r\n",
       "table tr { \r\n",
       "    vertical-align: top; \r\n",
       "    margin: 0em 0px;\r\n",
       "}\r\n",
       "table tr td pre \r\n",
       "{ \r\n",
       "    vertical-align: top !important; \r\n",
       "    margin: 0em 0px !important;\r\n",
       "} \r\n",
       "table th {\r\n",
       "    text-align: start;\r\n",
       "}\r\n",
       "</style>"
      ]
     },
     "execution_count": 23,
     "metadata": {},
     "output_type": "execute_result"
    }
   ],
   "source": [
    "static bool inside(double x, double y, double x1, double y1, double x2, double y2)\n",
    "{\n",
    "    if(x > x1 && x < x2 && y > y1 && y < y2)\n",
    "        return true;\n",
    "    return false;\n",
    "}\n",
    "\n",
    "inside(1,1,0,0,2,3)"
   ]
  },
  {
   "cell_type": "markdown",
   "id": "cb0849cb-112c-41a7-9fe8-6692af71a639",
   "metadata": {},
   "source": [
    "<p><font color= 'red'>b. Use function inside() from part a. to write an expression that tests whether  the point (1,1) lies in both of the following rectangles: one with lower left  corner (0.3, 0.5) and upper right corner (1.1, 0.7) \n",
    "and the other with lower left corner (0.5, 0.2) and upper right corner (1.1, 2).<font><p>"
   ]
  },
  {
   "cell_type": "code",
   "execution_count": 25,
   "id": "a36c32c6-2dfc-4639-9bdb-a9637413d2d7",
   "metadata": {},
   "outputs": [
    {
     "name": "stdout",
     "output_type": "stream",
     "text": [
      "The point lies in one rectangle\n"
     ]
    }
   ],
   "source": [
    "static bool inside(double x, double y, double x1, double y1, double x2, double y2)\n",
    "{\n",
    "    if(x > x1 && x < x2 && y > y1 && y < y2)\n",
    "        return true;\n",
    "    return false;\n",
    "}\n",
    "\n",
    "if (inside(1,1,0.3,0.5,1.1,0.7) && inside(1,1,0.5,0.2,1.1,2))\n",
    "{\n",
    "    Console.WriteLine(\"The give point lies in both rectangles\");\n",
    "}\n",
    "    \n",
    "\n",
    "else if (inside(1,1,0.3,0.5,1.1,0.7) || inside(1,1,0.5,0.2,1.1,2))\n",
    "{\n",
    "    Console.WriteLine(\"The point lies in one rectangle\");\n",
    "}\n",
    "    \n",
    "else{\n",
    "    Console.WriteLine(\"The point doesn't lie in both rectangles\");\n",
    "}"
   ]
  },
  {
   "cell_type": "markdown",
   "id": "4d8cd52c-19aa-4110-bb60-b31f45db9490",
   "metadata": {},
   "source": [
    "<h2><font color = 'red'><center>Python Questions</center></font></h2>"
   ]
  },
  {
   "cell_type": "markdown",
   "id": "72203dda-973c-4143-a951-59d986ba1813",
   "metadata": {},
   "source": [
    "<h4><font color= 'red'>Question 6 <font></h4>\r\n",
    "<p><font color= 'red'>You can turn a word into pig-Latin using the following two rules(simplified):\r\n",
    "• If the word starts with a consonant, move that letter to the end and append 'ay'. For example, 'happy' becomes 'appyhay' and 'pencil' becomes 'encilpay'.\r\n",
    "• If the word starts with a vowel, simply append 'way' to the end of the word. For example, 'enter' becomes 'enterway' and 'other' becomes 'otherway'.\r\n",
    "For our purposes, there are 5 vowels: a, e, i, o, u (so we count y as a consonant).Write a function pig() that takes a word (i.e., a string) as input and returns its pig\u0002Latin form.\r\n",
    "Your function should still work if the input word contains upper case characters. Your output should always be lower case however.<font></p>"
   ]
  },
  {
   "cell_type": "code",
   "execution_count": 1,
   "id": "ab774941-0e35-4e7f-ba9b-1a87e0c354c6",
   "metadata": {},
   "outputs": [
    {
     "name": "stdout",
     "output_type": "stream",
     "text": [
      "appyhay\n",
      "enterway\n"
     ]
    }
   ],
   "source": [
    "def pig(sentence):\n",
    "    lower_case=sentence.lower()\n",
    "    words = lower_case.split()\n",
    "    latin_words = []\n",
    "\n",
    "    vowels = ['a', 'e', 'i' , 'o', 'u']\n",
    "\n",
    "    for word in words:\n",
    "        has_vowel = False\n",
    "\n",
    "        if word[0] in vowels:\n",
    "            latin_words.append(word + \"way\")\n",
    "            break\n",
    "        else:\n",
    "            if word[0] not in vowels:\n",
    "                latin_words.append(word[1:] + word[0] + \"ay\")\n",
    "\n",
    "    pig_latin_sentence = ' '.join(latin_words)\n",
    "    print(pig_latin_sentence)\n",
    "\n",
    "pig('happy')\n",
    "pig('Enter')"
   ]
  },
  {
   "cell_type": "markdown",
   "id": "e5f71565-4d97-4cda-b24c-279600fab608",
   "metadata": {},
   "source": [
    "<h4><font color= 'red'>Question 7:</font></h4>\n",
    "<p></p><font color= 'red'>File bloodtype1.txt records blood-types of patients (A, B, AB, O or OO) at a clinic. Write a function bldcount() that reads the file with name name and reports (i.e.,prints) how many patients\n",
    "there are in each bloodtype.</font><p></p>"
   ]
  },
  {
   "cell_type": "code",
   "execution_count": 3,
   "id": "2474939b-8ea7-458a-8d21-6a810497e547",
   "metadata": {},
   "outputs": [
    {
     "name": "stdout",
     "output_type": "stream",
     "text": [
      "There are 15 patients of blood type A\n",
      "There is one patient with blood type B\n",
      "There are 13 patients of blood type AB\n",
      "There are 15 patients of blood type O\n",
      "There are 0 patients of blood type OO\n"
     ]
    }
   ],
   "source": [
    "def bldcount(filename):\n",
    "    number_of_words = 0\n",
    "    f = open(filename, \"r\")\n",
    "    data = f.read()\n",
    "    lines = data.split(\" \")\n",
    "    number_of_words += len(lines)-1\n",
    "    ab = lines.count('AB')\n",
    "    a = lines.count('A')\n",
    "    b = lines.count('B')\n",
    "    o = lines.count('O')\n",
    "    oo = lines.count('OO')\n",
    "    if a ==1:\n",
    "        print(\"There is one patient with blood type A\")\n",
    "    else:\n",
    "        print(\"There are\" , a, \"patients of blood type A\")\n",
    "    \n",
    "    if b ==1:\n",
    "        print(\"There is one patient with blood type B\")\n",
    "    else:\n",
    "        print(\"There are\" , b, \"patients of blood type B\")\n",
    "    \n",
    "    if ab ==1:\n",
    "        print(\"There is one patient with blood type AB\")\n",
    "    else:\n",
    "        print(\"There are\" , ab, \"patients of blood type AB\")\n",
    "    \n",
    "    if o ==1:\n",
    "        print(\"There is one patient with blood type O\")\n",
    "    else:\n",
    "        print(\"There are\" , o, \"patients of blood type O\")\n",
    "    \n",
    "    if oo ==1:\n",
    "        print(\"There is one patient with blood type OO\")\n",
    "    else:\n",
    "        print(\"There are\" , oo, \"patients of blood type OO\")\n",
    "    \n",
    "#Please change the file path to your local path and execute\n",
    "bldcount(\"C:\\\\Users\\\\harin\\\\Desktop\\\\Shamili-Assignments\\\\DAP\\\\bloodtype1.txt\")"
   ]
  },
  {
   "cell_type": "markdown",
   "id": "4b64dd89-76e4-46bd-816c-56a9ce4b33fd",
   "metadata": {},
   "source": [
    "<h4><font color= 'red'>Question 8<font></h4>\n",
    "<p></p><font color= 'red'>Write a function curconv() that takes as input:\n",
    "<li>1. a currency represented using a string (e.g., 'JPY' for the Japanese Yen or 'EUR' for the Euro)</li>\n",
    "<li>2. an amount</li>\n",
    "and then converts and returns the amount in US dollars.<font><p></p>"
   ]
  },
  {
   "cell_type": "code",
   "execution_count": 7,
   "id": "a2a85b81-b3e8-4777-bcc7-a6d328968e6b",
   "metadata": {},
   "outputs": [
    {
     "name": "stdout",
     "output_type": "stream",
     "text": [
      "122.96544\n",
      "1.241401\n"
     ]
    }
   ],
   "source": [
    "def currconv(curr,dollar):\n",
    "    #Please change the file path to your local path and execute\n",
    "    f = open(\"C:\\\\Users\\\\harin\\\\Desktop\\\\Shamili-Assignments\\\\DAP\\\\currencies.txt\", \"r\")\n",
    "    data = f.readlines()\n",
    "    for items in data:\n",
    "        lines = items.split()\n",
    "        if lines[0] == curr:\n",
    "            line = float(lines[1])\n",
    "            conversion = dollar * line\n",
    "            print(conversion)\n",
    "\n",
    "currconv('EUR',100)\n",
    "\n",
    "currconv('JPY',100)"
   ]
  },
  {
   "cell_type": "markdown",
   "id": "c84843ef-6f88-4cb8-bec1-e4673837c5dc",
   "metadata": {},
   "source": [
    "<h4><font color= 'red'>Question 9 <font></h4>\r\n",
    "<p><font color= 'red'>Each of the following will cause an exception (an error). Identify what type of exception each will cause.<font></p>"
   ]
  },
  {
   "cell_type": "code",
   "execution_count": null,
   "id": "cc408e2a-f0c0-4d4e-be8c-6e9e1175a684",
   "metadata": {},
   "outputs": [],
   "source": [
    "Trying to add incompatible variables, as in adding 6 + ‘a’   -  Type Error\n",
    "\n",
    "\n",
    "Referring to the 12th item of a list that has only 10 item  -  IndexError: list index out of range\n",
    "\n",
    "\n",
    "Using a value that is out ofrange for a function’s input, such as calling math.sqrt(-1.0)  - ValueError: math domain error\n",
    "\n",
    "\n",
    "Using an undeclared variable, such as print(x) when x has not been defined  -  NameError: name 'x' is not defined\n",
    "\n",
    "\n",
    "Trying to open a file that does not exist, such as  mistyping the file name or looking in the wrong  directory.  -  FileNotFoundError: [Errno 2] No such file or directory:"
   ]
  },
  {
   "cell_type": "markdown",
   "id": "7d84d01f-f957-4fb5-806f-0d63f3363c57",
   "metadata": {},
   "source": [
    "<h4><font color='red'>Question 10</font></h4>\n",
    "<p><font color='red'>Encryption is the process of hiding the meaning of a text by substituting letters in the message with other letters, according to some system. If the process is successful, no one but the intended recipient can understand the encrypted message. Cryptanalysis refers to attempts to undo the encryption, even if some details of the encryption are unknown (for example, if an encrypted message has been intercepted). The first step of cryptanalysis is often to build up a table of letter frequencies in the encrypted text. Assume that the string letters is already defined as 'abcdefghijklmnopqrstuvwxyz'. Write a function called frequencies() that takes a string as its only parameter, and returns a list of integers, showing the number of times each character appears in the text. Your function may ignore any characters that are not in letters.</font></p>"
   ]
  },
  {
   "cell_type": "code",
   "execution_count": 1,
   "id": "44c50a6c-84b7-4b3f-ae46-5edccb4eef61",
   "metadata": {},
   "outputs": [
    {
     "name": "stdout",
     "output_type": "stream",
     "text": [
      "[1, 1, 1, 3, 5, 1, 1, 2, 1, 0, 1, 0, 1, 2, 4, 0, 1, 2, 0, 2, 1, 0, 1, 1, 0, 0]\n",
      "[1, 0, 0, 0, 1, 0, 0, 0, 0, 0, 0, 1, 0, 0, 0, 2, 0, 0, 0, 0, 0, 0, 0, 0, 0, 0]\n"
     ]
    }
   ],
   "source": [
    "def frequencies(message):\n",
    "    letters = \"abcdefghijklmnopqrstuvwxyz\"\n",
    "    encrypt=[]\n",
    "    for item in letters:\n",
    "        for ltr in message:\n",
    "            a = message.count(item)\n",
    "        encrypt.append(a)\n",
    "    print (encrypt)\n",
    "\n",
    "frequencies('The quick red fox got bored and went home.')\n",
    "frequencies('apple')"
   ]
  }
 ],
 "metadata": {
  "kernelspec": {
   "display_name": "Python 3 (ipykernel)",
   "language": "python",
   "name": "python3"
  },
  "language_info": {
   "codemirror_mode": {
    "name": "ipython",
    "version": 3
   },
   "file_extension": ".py",
   "mimetype": "text/x-python",
   "name": "python",
   "nbconvert_exporter": "python",
   "pygments_lexer": "ipython3",
   "version": "3.12.4"
  }
 },
 "nbformat": 4,
 "nbformat_minor": 5
}
